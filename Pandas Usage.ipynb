{
 "cells": [
  {
   "cell_type": "markdown",
   "metadata": {},
   "source": [
    "# Pandas Usage\n",
    "\n",
    "## Series 和 DataFrame 是其两个主要数据结构\n",
    "### Series 是单维索引数组\n",
    "### DataFrame 是具有列级和行级索引的表格数据结构\n",
    "### Pandas 是预处理数据集的绝佳工具，可提供高度优化的性能"
   ]
  },
  {
   "cell_type": "code",
   "execution_count": 3,
   "metadata": {},
   "outputs": [
    {
     "name": "stdout",
     "output_type": "stream",
     "text": [
      "[2 9 0 1]\n"
     ]
    }
   ],
   "source": [
    "import pandas as pd\n",
    "series_1 = pd.Series([2, 9, 0, 1]) # Creating a series object\n",
    "print(series_1.values) # Print values of the series object"
   ]
  },
  {
   "cell_type": "code",
   "execution_count": 5,
   "metadata": {},
   "outputs": [
    {
     "data": {
      "text/plain": [
       "RangeIndex(start=0, stop=4, step=1)"
      ]
     },
     "execution_count": 5,
     "metadata": {},
     "output_type": "execute_result"
    }
   ],
   "source": [
    "series_1.index # Default index of the series object"
   ]
  },
  {
   "cell_type": "code",
   "execution_count": 6,
   "metadata": {},
   "outputs": [
    {
     "data": {
      "text/plain": [
       "1"
      ]
     },
     "execution_count": 6,
     "metadata": {},
     "output_type": "execute_result"
    }
   ],
   "source": [
    "series_1.index = ['a', 'b', 'c', 'd'] # Setting index of the series object\n",
    "series_1['d'] # Fetching element using new index"
   ]
  },
  {
   "cell_type": "markdown",
   "metadata": {},
   "source": [
    "### Creating dataframe using pandas"
   ]
  },
  {
   "cell_type": "code",
   "execution_count": 22,
   "metadata": {},
   "outputs": [
    {
     "name": "stdout",
     "output_type": "stream",
     "text": [
      "          Names  Standard      Subject\n",
      "Student1   John         7      English\n",
      "Student2   Ryan         5  Mathematics\n",
      "Student3  Emily         8      Science\n"
     ]
    }
   ],
   "source": [
    "class_data = {'Names':['John', 'Ryan', 'Emily'], \n",
    "             'Standard':[7, 5, 8],\n",
    "             'Subject':['English', 'Mathematics', 'Science']}\n",
    "class_df = pd.DataFrame(class_data, index=['Student1', 'Student2', 'Student3'],\n",
    "                       columns=['Names', 'Standard', 'Subject'])\n",
    "print(class_df)"
   ]
  },
  {
   "cell_type": "code",
   "execution_count": 10,
   "metadata": {},
   "outputs": [
    {
     "data": {
      "text/plain": [
       "Student1     John\n",
       "Student2     Ryan\n",
       "Student3    Emily\n",
       "Name: Names, dtype: object"
      ]
     },
     "execution_count": 10,
     "metadata": {},
     "output_type": "execute_result"
    }
   ],
   "source": [
    "class_df.Names"
   ]
  },
  {
   "cell_type": "markdown",
   "metadata": {},
   "source": [
    "### Add new entry to the dataframe"
   ]
  },
  {
   "cell_type": "code",
   "execution_count": 24,
   "metadata": {},
   "outputs": [
    {
     "data": {
      "text/html": [
       "<div>\n",
       "<style scoped>\n",
       "    .dataframe tbody tr th:only-of-type {\n",
       "        vertical-align: middle;\n",
       "    }\n",
       "\n",
       "    .dataframe tbody tr th {\n",
       "        vertical-align: top;\n",
       "    }\n",
       "\n",
       "    .dataframe thead th {\n",
       "        text-align: right;\n",
       "    }\n",
       "</style>\n",
       "<table border=\"1\" class=\"dataframe\">\n",
       "  <thead>\n",
       "    <tr style=\"text-align: right;\">\n",
       "      <th></th>\n",
       "      <th>Student1</th>\n",
       "      <th>Student2</th>\n",
       "      <th>Student3</th>\n",
       "      <th>Student4</th>\n",
       "    </tr>\n",
       "  </thead>\n",
       "  <tbody>\n",
       "    <tr>\n",
       "      <th>Names</th>\n",
       "      <td>John</td>\n",
       "      <td>Ryan</td>\n",
       "      <td>Emily</td>\n",
       "      <td>Robin</td>\n",
       "    </tr>\n",
       "    <tr>\n",
       "      <th>Standard</th>\n",
       "      <td>7</td>\n",
       "      <td>5</td>\n",
       "      <td>8</td>\n",
       "      <td>NaN</td>\n",
       "    </tr>\n",
       "    <tr>\n",
       "      <th>Subject</th>\n",
       "      <td>English</td>\n",
       "      <td>Mathematics</td>\n",
       "      <td>Science</td>\n",
       "      <td>History</td>\n",
       "    </tr>\n",
       "  </tbody>\n",
       "</table>\n",
       "</div>"
      ],
      "text/plain": [
       "         Student1     Student2 Student3 Student4\n",
       "Names        John         Ryan    Emily    Robin\n",
       "Standard        7            5        8      NaN\n",
       "Subject   English  Mathematics  Science  History"
      ]
     },
     "execution_count": 24,
     "metadata": {},
     "output_type": "execute_result"
    }
   ],
   "source": [
    "import numpy as np\n",
    "class_df.ix['Student4'] = ['Robin', np.nan, 'History']\n",
    "class_df.T # Take transpose of the dataframe"
   ]
  },
  {
   "cell_type": "code",
   "execution_count": 25,
   "metadata": {},
   "outputs": [
    {
     "data": {
      "text/html": [
       "<div>\n",
       "<style scoped>\n",
       "    .dataframe tbody tr th:only-of-type {\n",
       "        vertical-align: middle;\n",
       "    }\n",
       "\n",
       "    .dataframe tbody tr th {\n",
       "        vertical-align: top;\n",
       "    }\n",
       "\n",
       "    .dataframe thead th {\n",
       "        text-align: right;\n",
       "    }\n",
       "</style>\n",
       "<table border=\"1\" class=\"dataframe\">\n",
       "  <thead>\n",
       "    <tr style=\"text-align: right;\">\n",
       "      <th></th>\n",
       "      <th>Names</th>\n",
       "      <th>Standard</th>\n",
       "      <th>Subject</th>\n",
       "    </tr>\n",
       "  </thead>\n",
       "  <tbody>\n",
       "    <tr>\n",
       "      <th>Student2</th>\n",
       "      <td>Ryan</td>\n",
       "      <td>5.0</td>\n",
       "      <td>Mathematics</td>\n",
       "    </tr>\n",
       "    <tr>\n",
       "      <th>Student1</th>\n",
       "      <td>John</td>\n",
       "      <td>7.0</td>\n",
       "      <td>English</td>\n",
       "    </tr>\n",
       "    <tr>\n",
       "      <th>Student3</th>\n",
       "      <td>Emily</td>\n",
       "      <td>8.0</td>\n",
       "      <td>Science</td>\n",
       "    </tr>\n",
       "    <tr>\n",
       "      <th>Student4</th>\n",
       "      <td>Robin</td>\n",
       "      <td>NaN</td>\n",
       "      <td>History</td>\n",
       "    </tr>\n",
       "  </tbody>\n",
       "</table>\n",
       "</div>"
      ],
      "text/plain": [
       "          Names  Standard      Subject\n",
       "Student2   Ryan       5.0  Mathematics\n",
       "Student1   John       7.0      English\n",
       "Student3  Emily       8.0      Science\n",
       "Student4  Robin       NaN      History"
      ]
     },
     "execution_count": 25,
     "metadata": {},
     "output_type": "execute_result"
    }
   ],
   "source": [
    "class_df.sort_values(by='Standard') # Sorting of rows by one colmn"
   ]
  },
  {
   "cell_type": "markdown",
   "metadata": {},
   "source": [
    "### Adding one more column to the dataframe as Series object"
   ]
  },
  {
   "cell_type": "code",
   "execution_count": 27,
   "metadata": {},
   "outputs": [
    {
     "name": "stdout",
     "output_type": "stream",
     "text": [
      "          Names  Standard      Subject Grade\n",
      "Student1   John       7.0      English     A\n",
      "Student2   Ryan       5.0  Mathematics     B\n",
      "Student3  Emily       8.0      Science    A+\n",
      "Student4  Robin       NaN      History     C\n"
     ]
    }
   ],
   "source": [
    "col_entry = pd.Series(['A', 'B', 'A+', 'C'],\n",
    "                     index=['Student1', 'Student2', 'Student3', 'Student4'])\n",
    "class_df['Grade'] = col_entry\n",
    "print(class_df)"
   ]
  },
  {
   "cell_type": "markdown",
   "metadata": {},
   "source": [
    "### Filling the missing entries in the dataframe, inplace"
   ]
  },
  {
   "cell_type": "code",
   "execution_count": 41,
   "metadata": {},
   "outputs": [
    {
     "name": "stdout",
     "output_type": "stream",
     "text": [
      "          Names  Standard      Subject Grade\n",
      "Student1   John       7.0      English     A\n",
      "Student2   Ryan       5.0  Mathematics     B\n",
      "Student3  Emily       8.0      Science    A+\n",
      "Student4  Robin      10.0      History     C\n"
     ]
    }
   ],
   "source": [
    "class_df.fillna(10, inplace=True) # True是深复制，False是浅复制\n",
    "print(class_df)"
   ]
  },
  {
   "cell_type": "markdown",
   "metadata": {},
   "source": [
    "### Concatenation of 2 dataframes"
   ]
  },
  {
   "cell_type": "code",
   "execution_count": 42,
   "metadata": {},
   "outputs": [
    {
     "name": "stdout",
     "output_type": "stream",
     "text": [
      "          Age\n",
      "Student1   13\n",
      "Student2   10\n",
      "Student3   15\n",
      "Student4   18\n"
     ]
    }
   ],
   "source": [
    "student_age = pd.DataFrame(data={'Age':[13, 10, 15, 18]},\n",
    "                          index=['Student1', 'Student2', 'Student3', 'Student4'])\n",
    "print(student_age)"
   ]
  },
  {
   "cell_type": "code",
   "execution_count": 43,
   "metadata": {},
   "outputs": [
    {
     "name": "stdout",
     "output_type": "stream",
     "text": [
      "          Names  Standard      Subject Grade  Age\n",
      "Student1   John       7.0      English     A   13\n",
      "Student2   Ryan       5.0  Mathematics     B   10\n",
      "Student3  Emily       8.0      Science    A+   15\n",
      "Student4  Robin      10.0      History     C   18\n"
     ]
    }
   ],
   "source": [
    "class_data = pd.concat([class_df, student_age], axis = 1)\n",
    "print(class_data)"
   ]
  },
  {
   "cell_type": "markdown",
   "metadata": {},
   "source": [
    "### 使用map函数可将任意函数分别应用于列或行中的每个元素\n",
    "### 使用apply函数可将任意函数同时应用于列或行中的所有元素"
   ]
  },
  {
   "cell_type": "markdown",
   "metadata": {},
   "source": [
    "### MAP Function"
   ]
  },
  {
   "cell_type": "code",
   "execution_count": 44,
   "metadata": {},
   "outputs": [
    {
     "data": {
      "text/plain": [
       "Student1        EnglishSub\n",
       "Student2    MathematicsSub\n",
       "Student3        ScienceSub\n",
       "Student4        HistorySub\n",
       "Name: Subject, dtype: object"
      ]
     },
     "execution_count": 44,
     "metadata": {},
     "output_type": "execute_result"
    }
   ],
   "source": [
    "class_data['Subject'] = class_data['Subject'].map(lambda x: x+'Sub')\n",
    "class_data['Subject']"
   ]
  },
  {
   "cell_type": "markdown",
   "metadata": {},
   "source": [
    "### APPLY Function"
   ]
  },
  {
   "cell_type": "code",
   "execution_count": 45,
   "metadata": {},
   "outputs": [
    {
     "name": "stdout",
     "output_type": "stream",
     "text": [
      "-----Old values-----\n",
      "Student1    13\n",
      "Student2    10\n",
      "Student3    15\n",
      "Student4    18\n",
      "Name: Age, dtype: int64\n",
      "-----New values-----\n",
      "Student1    14\n",
      "Student2    11\n",
      "Student3    16\n",
      "Student4    19\n",
      "Name: Age, dtype: int64\n"
     ]
    }
   ],
   "source": [
    "def age_add(x): # Defining a new function which will increment the age by 1\n",
    "    return(x+1)\n",
    "print('-----Old values-----')\n",
    "print(class_data['Age'])\n",
    "print('-----New values-----')\n",
    "print(class_data['Age'].apply(age_add)) # Applying the age function on top of the age column"
   ]
  },
  {
   "cell_type": "markdown",
   "metadata": {},
   "source": [
    "### Changing datatype of the column"
   ]
  },
  {
   "cell_type": "code",
   "execution_count": 46,
   "metadata": {},
   "outputs": [
    {
     "data": {
      "text/plain": [
       "CategoricalDtype(categories=['A', 'A+', 'B', 'C'], ordered=False)"
      ]
     },
     "execution_count": 46,
     "metadata": {},
     "output_type": "execute_result"
    }
   ],
   "source": [
    "class_data['Grade'] = class_data['Grade'].astype('category')\n",
    "class_data.Grade.dtypes"
   ]
  },
  {
   "cell_type": "markdown",
   "metadata": {},
   "source": [
    "### Storing the results"
   ]
  },
  {
   "cell_type": "code",
   "execution_count": 47,
   "metadata": {},
   "outputs": [],
   "source": [
    "class_data.to_csv('class_dataset.csv', index=False)"
   ]
  },
  {
   "cell_type": "markdown",
   "metadata": {},
   "source": [
    "### 合并函数(concat、merge、append) 、 groupby、pivot_table函数在数据处理任务中有大量的应用\n",
    "### 参考 http://pandas.pydata.org/"
   ]
  }
 ],
 "metadata": {
  "kernelspec": {
   "display_name": "Python 3",
   "language": "python",
   "name": "python3"
  },
  "language_info": {
   "codemirror_mode": {
    "name": "ipython",
    "version": 3
   },
   "file_extension": ".py",
   "mimetype": "text/x-python",
   "name": "python",
   "nbconvert_exporter": "python",
   "pygments_lexer": "ipython3",
   "version": "3.6.4"
  }
 },
 "nbformat": 4,
 "nbformat_minor": 2
}
