{
 "cells": [
  {
   "cell_type": "markdown",
   "metadata": {},
   "source": [
    "## Scipy Usage\n",
    "### Scipy 提供了负责的算法及其在Numpy中作为函数的用法。\n",
    "### 这将分配高级命令和多种多样的类来操作和可视化数据。\n",
    "### Scipy 将多个小型包整合在一起，每个包都针对单独的科学计算领域。\n",
    "### 其中的集合子包是 linalg(线性代数)、constants(物理和数学常数)、sparse(稀疏矩阵和相关例程)\n",
    "### Numpy包中大多数针对数组的函数也包含在Scipy包中。\n",
    "### Scipy提供预先测试好的例程，因此可以在科学计算应用中节省大量处理时间。"
   ]
  },
  {
   "cell_type": "code",
   "execution_count": 1,
   "metadata": {},
   "outputs": [
    {
     "name": "stdout",
     "output_type": "stream",
     "text": [
      "[[ 2  3  1]\n",
      " [ 4  9 10]\n",
      " [10  5  6]]\n"
     ]
    }
   ],
   "source": [
    "import scipy\n",
    "import numpy as np \n",
    "from scipy import linalg # 线性代数子包\n",
    "mat_ = np.array([[2, 3, 1], [4, 9, 10], [10, 5, 6]]) \n",
    "print(mat_)"
   ]
  },
  {
   "cell_type": "code",
   "execution_count": 3,
   "metadata": {},
   "outputs": [
    {
     "name": "stdout",
     "output_type": "stream",
     "text": [
      "166.0\n",
      "[[ 0.02409639 -0.07831325  0.12650602]\n",
      " [ 0.45783133  0.01204819 -0.09638554]\n",
      " [-0.42168675  0.12048193  0.03614458]]\n"
     ]
    }
   ],
   "source": [
    "print(linalg.det(mat_)) # Determinant of the matrix 矩阵行列式\n",
    "inv_mat = linalg.inv(mat_) # Inverse of the matrix 矩阵的逆\n",
    "print(inv_mat)"
   ]
  },
  {
   "cell_type": "markdown",
   "metadata": {},
   "source": [
    "### Singular Value Decomposition 奇异值分解"
   ]
  },
  {
   "cell_type": "code",
   "execution_count": 4,
   "metadata": {},
   "outputs": [
    {
     "name": "stdout",
     "output_type": "stream",
     "text": [
      "[[-0.1854159   0.0294175  -0.98221971]\n",
      " [-0.73602677 -0.66641413  0.11898237]\n",
      " [-0.65106493  0.74500122  0.14521585]]\n",
      "[18.34661713  5.73710697  1.57709968]\n",
      "[[-0.53555313 -0.56881403 -0.62420625]\n",
      " [ 0.84418693 -0.38076134 -0.37731848]\n",
      " [-0.02304957 -0.72902085  0.6841033 ]]\n"
     ]
    }
   ],
   "source": [
    "comp_1, comp_2, comp_3 = linalg.svd(mat_)\n",
    "print(comp_1)\n",
    "print(comp_2)\n",
    "print(comp_3)"
   ]
  },
  {
   "cell_type": "markdown",
   "metadata": {},
   "source": [
    "### Scipy.stats是一个大型子包，包含各种各样的统计分布处理函数，可用于操作不同类型的数据集"
   ]
  },
  {
   "cell_type": "markdown",
   "metadata": {},
   "source": [
    "### Scipy stats module"
   ]
  },
  {
   "cell_type": "code",
   "execution_count": 5,
   "metadata": {},
   "outputs": [],
   "source": [
    "from scipy import stats"
   ]
  },
  {
   "cell_type": "markdown",
   "metadata": {},
   "source": [
    "### Generating a random sample of size 20 from normal distribution with mean 3 and standard deviation 5\n",
    "### 从正态分布生成大小为20的随机样本，平均值为3，标准差为5"
   ]
  },
  {
   "cell_type": "code",
   "execution_count": 7,
   "metadata": {},
   "outputs": [
    {
     "name": "stdout",
     "output_type": "stream",
     "text": [
      "[ 5.0561557   5.14251437  0.37742247 -2.61685362  0.06781688  4.06539541\n",
      " -1.07715695 -2.68282799  5.19230001  1.88853363 -2.04002443  5.72558164\n",
      " -3.32820989 -5.54297017  8.51599397  4.24338853 -1.62284822  5.22029639\n",
      " -3.19899615  7.9937774 ] \n",
      " ---\n"
     ]
    }
   ],
   "source": [
    "rvs_20 = stats.norm.rvs(3, 5, size=20)\n",
    "print(rvs_20, '\\n ---')"
   ]
  },
  {
   "cell_type": "markdown",
   "metadata": {},
   "source": [
    "### Computing the CDF of Beta distribution with a=100 and b=130 as shape parameters at random variable 0.41\n",
    "### CDF(Cumulative Distribution Function)累積分布函數，又叫分布函數，是概率密度函數的積分"
   ]
  },
  {
   "cell_type": "code",
   "execution_count": 11,
   "metadata": {},
   "outputs": [
    {
     "name": "stdout",
     "output_type": "stream",
     "text": [
      "0.22500957436155394\n"
     ]
    }
   ],
   "source": [
    "cdf_ = stats.beta.cdf(0.41, a=100, b=130)\n",
    "print(cdf_)"
   ]
  },
  {
   "cell_type": "markdown",
   "metadata": {},
   "source": [
    "### 有关使用Scipy子包的用法，参考http://docs.scipy.org/doc/"
   ]
  }
 ],
 "metadata": {
  "kernelspec": {
   "display_name": "Python 3",
   "language": "python",
   "name": "python3"
  },
  "language_info": {
   "codemirror_mode": {
    "name": "ipython",
    "version": 3
   },
   "file_extension": ".py",
   "mimetype": "text/x-python",
   "name": "python",
   "nbconvert_exporter": "python",
   "pygments_lexer": "ipython3",
   "version": "3.6.4"
  }
 },
 "nbformat": 4,
 "nbformat_minor": 2
}
