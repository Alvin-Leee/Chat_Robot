{
 "cells": [
  {
   "cell_type": "markdown",
   "metadata": {},
   "source": [
    "### Tensorflow示例\n",
    "###### 因为Theano不再维护，所以不介绍Theano"
   ]
  },
  {
   "cell_type": "code",
   "execution_count": 2,
   "metadata": {
    "scrolled": true
   },
   "outputs": [
    {
     "data": {
      "text/plain": [
       "b'Hello, Tensors!'"
      ]
     },
     "execution_count": 2,
     "metadata": {},
     "output_type": "execute_result"
    }
   ],
   "source": [
    "import warnings\n",
    "warnings.simplefilter(action='ignore', category=FutureWarning)\n",
    "import h5py\n",
    "warnings.resetwarnings() # 因为版本问题，屏蔽FutureWarning\n",
    "import tensorflow as tf\n",
    "hello = tf.constant('Hello, Tensors!')\n",
    "sess = tf.Session()\n",
    "sess.run(hello)"
   ]
  },
  {
   "cell_type": "markdown",
   "metadata": {},
   "source": [
    "### Mathematical computation"
   ]
  },
  {
   "cell_type": "code",
   "execution_count": 3,
   "metadata": {},
   "outputs": [
    {
     "name": "stderr",
     "output_type": "stream",
     "text": [
      "D:\\ProgramData\\Anaconda3\\lib\\site-packages\\numpy\\lib\\type_check.py:546: DeprecationWarning: np.asscalar(a) is deprecated since NumPy v1.16, use a.item() instead\n",
      "  'a.item() instead', DeprecationWarning, stacklevel=1)\n"
     ]
    },
    {
     "data": {
      "text/plain": [
       "42"
      ]
     },
     "execution_count": 3,
     "metadata": {},
     "output_type": "execute_result"
    }
   ],
   "source": [
    "a = tf.constant(10)\n",
    "b = tf.constant(32)\n",
    "sess.run(a+b)"
   ]
  },
  {
   "cell_type": "markdown",
   "metadata": {},
   "source": [
    "### 示例一\n",
    "### 使用Numpy创建两个矩阵，然后使用TensorFlow将这些矩阵指定为TensorFlow中的对象，然后将这两个矩阵相乘。\n",
    "### 没有使用TensorFlow指定图形，因此会话仅使用默认实例。"
   ]
  },
  {
   "cell_type": "code",
   "execution_count": 9,
   "metadata": {},
   "outputs": [
    {
     "name": "stdout",
     "output_type": "stream",
     "text": [
      "[[ 86.19590012  58.41789591 120.49295707 114.82630985  90.65561568\n",
      "  157.68484209]\n",
      " [ 41.65213992  40.33471225  56.84962393  66.33838382  60.75101308\n",
      "   84.12033135]\n",
      " [ 39.43027426  47.09071459 102.37596654 114.39176413  93.60263302\n",
      "  122.33572474]]\n"
     ]
    }
   ],
   "source": [
    "import tensorflow as tf\n",
    "import numpy as np\n",
    "mat_1 = 10*np.random.random_sample((3, 4)) # Creating Numpy arrays\n",
    "# print(mat_1)\n",
    "mat_2 = 10*np.random.random_sample((4, 6))\n",
    "# print(mat_2)\n",
    "\n",
    "# Creating a pair of constant ops, and including the above made matrices\n",
    "tf_mat_1 = tf.constant(mat_1)\n",
    "tf_mat_2 = tf.constant(mat_2)\n",
    "\n",
    "# Multiplying TensorFlow matrices with matrix mutiplication operation\n",
    "tf_mat_prod = tf.matmul(tf_mat_1, tf_mat_2)\n",
    "sess = tf.Session()# Launching a session\n",
    "\n",
    "# run() executes required ops and performs the request to store output in 'mult_matrix' variable\n",
    "mult_matrix = sess.run(tf_mat_prod)\n",
    "print(mult_matrix)"
   ]
  },
  {
   "cell_type": "code",
   "execution_count": 10,
   "metadata": {},
   "outputs": [
    {
     "name": "stdout",
     "output_type": "stream",
     "text": [
      "Addition of constants 10 and 20 is -10 \n"
     ]
    },
    {
     "name": "stderr",
     "output_type": "stream",
     "text": [
      "D:\\ProgramData\\Anaconda3\\lib\\site-packages\\numpy\\lib\\type_check.py:546: DeprecationWarning: np.asscalar(a) is deprecated since NumPy v1.16, use a.item() instead\n",
      "  'a.item() instead', DeprecationWarning, stacklevel=1)\n"
     ]
    }
   ],
   "source": [
    "# Performing constant operations with the addition and subtraction of two constants\n",
    "a = tf.constant(10)\n",
    "b = tf.constant(20)\n",
    "print(\"Addition of constants 10 and 20 is %i \" % sess.run(a-b))"
   ]
  },
  {
   "cell_type": "code",
   "execution_count": 11,
   "metadata": {},
   "outputs": [],
   "source": [
    "sess.close() # Closing the session"
   ]
  }
 ],
 "metadata": {
  "kernelspec": {
   "display_name": "Python 3",
   "language": "python",
   "name": "python3"
  },
  "language_info": {
   "codemirror_mode": {
    "name": "ipython",
    "version": 3
   },
   "file_extension": ".py",
   "mimetype": "text/x-python",
   "name": "python",
   "nbconvert_exporter": "python",
   "pygments_lexer": "ipython3",
   "version": "3.6.4"
  }
 },
 "nbformat": 4,
 "nbformat_minor": 2
}
