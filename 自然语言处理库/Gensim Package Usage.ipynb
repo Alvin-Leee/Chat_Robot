{
 "cells": [
  {
   "cell_type": "markdown",
   "metadata": {},
   "source": [
    "## Gensim Package Usage\n",
    "### 主要用于主题建模和文档相似性处理，在诸如获取单词的词向量等任务中非常有用"
   ]
  },
  {
   "cell_type": "code",
   "execution_count": 7,
   "metadata": {},
   "outputs": [
    {
     "name": "stdout",
     "output_type": "stream",
     "text": [
      "['bitcoin', 'is', 'an', 'innovative', 'payment', 'netword', 'and', 'a', 'new', 'kind', 'of', 'money.']\n"
     ]
    },
    {
     "name": "stderr",
     "output_type": "stream",
     "text": [
      "D:\\ProgramData\\Anaconda3\\lib\\site-packages\\gensim\\models\\base_any2vec.py:743: UserWarning: C extension not loaded, training will be slow. Install a C compiler and reinstall gensim for fast training.\n",
      "  \"C extension not loaded, training will be slow. \"\n",
      "D:\\ProgramData\\Anaconda3\\lib\\site-packages\\ipykernel_launcher.py:13: DeprecationWarning: Call to deprecated `__getitem__` (Method will be removed in 4.0.0, use self.wv.__getitem__() instead).\n",
      "  del sys.path[0]\n"
     ]
    },
    {
     "data": {
      "text/plain": [
       "array([ 0.00736828,  0.00542147,  0.004577  ,  0.00051052,  0.00933004,\n",
       "       -0.00169377,  0.00758752,  0.00303355, -0.00937744,  0.00835933,\n",
       "       -0.00634617, -0.00775738,  0.00567735,  0.00385828, -0.00502864,\n",
       "       -0.00963998, -0.00879365, -0.0096799 , -0.00684923, -0.00502624,\n",
       "        0.00777159, -0.0082344 , -0.00340858,  0.0029698 ,  0.0034295 ,\n",
       "       -0.00325559, -0.00717561,  0.00993086, -0.00683818,  0.00228484,\n",
       "        0.00833302,  0.00540888,  0.00325019,  0.00170306, -0.00710962,\n",
       "        0.00785454,  0.00273208, -0.00223819, -0.00159379,  0.00849856,\n",
       "        0.00752792,  0.00925824,  0.00825435, -0.00018622, -0.00725442,\n",
       "        0.00826617, -0.00725472,  0.00878743,  0.00429999, -0.00308976],\n",
       "      dtype=float32)"
      ]
     },
     "execution_count": 7,
     "metadata": {},
     "output_type": "execute_result"
    }
   ],
   "source": [
    "# import nltk\n",
    "# nltk.download('wordnet_ic')\n",
    "from gensim.models import Word2Vec\n",
    "min_count=0\n",
    "size=50\n",
    "window=2\n",
    "sentences = \"bitcoin is an innovative payment netword and a new kind of money.\"\n",
    "sentences = sentences.split()\n",
    "print(sentences)\n",
    "\n",
    "model = Word2Vec(sentences, min_count=min_count, size=size, window=window)\n",
    "model\n",
    "model['a']"
   ]
  },
  {
   "cell_type": "markdown",
   "metadata": {},
   "source": [
    "### 可以从连接http://github.com/mmihaltz/word2vec-GoogleNews-vectors 下载示例模型。"
   ]
  },
  {
   "cell_type": "code",
   "execution_count": 11,
   "metadata": {},
   "outputs": [],
   "source": [
    "import gensim\n",
    "model = gensim.models.KeyedVectors.load_word2vec_format('GoogleNews-vectors-negative300.bin', binary=True)\n",
    "sentence = [\"I\", \"hope\", \"it\", \"is\", \"going\", \"good\", \"for\", \"you\"]\n",
    "vectors = [model[w] for w in sentence]"
   ]
  },
  {
   "cell_type": "markdown",
   "metadata": {},
   "source": [
    "### Gensim还提供了LDA(潜在狄利克雷分布，一种生成统计模型，它允许通过若干组可以解释为什么某些部分数据相似的未观察到的数据组，来解释观察到的数据）模块。它允许对训练语料库进行LDA模型估计，和对新的未见文档的主题分布进行推断。该模型还可以通过新文档线上训练方式进行更新。"
   ]
  }
 ],
 "metadata": {
  "kernelspec": {
   "display_name": "Python 3",
   "language": "python",
   "name": "python3"
  },
  "language_info": {
   "codemirror_mode": {
    "name": "ipython",
    "version": 3
   },
   "file_extension": ".py",
   "mimetype": "text/x-python",
   "name": "python",
   "nbconvert_exporter": "python",
   "pygments_lexer": "ipython3",
   "version": "3.6.4"
  }
 },
 "nbformat": 4,
 "nbformat_minor": 2
}
