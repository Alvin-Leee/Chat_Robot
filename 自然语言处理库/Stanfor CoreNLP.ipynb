{
 "cells": [
  {
   "cell_type": "markdown",
   "metadata": {},
   "source": [
    "### Stanford CoreNLP(https://stanfordnlp.github.io/CoreNLP/) 提供单词的基本形式、它们的词类、是否是公司或人物等实体的名称、标准化日期、时间和数字，还可以用短语和句法依赖来标记句子的结构，表明哪些名词短语是指相同实体，表示情绪，提取实体体积之间的特定或开放式关系，识别人们所说的名言等。"
   ]
  }
 ],
 "metadata": {
  "kernelspec": {
   "display_name": "Python 3",
   "language": "python",
   "name": "python3"
  },
  "language_info": {
   "codemirror_mode": {
    "name": "ipython",
    "version": 3
   },
   "file_extension": ".py",
   "mimetype": "text/x-python",
   "name": "python",
   "nbconvert_exporter": "python",
   "pygments_lexer": "ipython3",
   "version": "3.6.4"
  }
 },
 "nbformat": 4,
 "nbformat_minor": 2
}
