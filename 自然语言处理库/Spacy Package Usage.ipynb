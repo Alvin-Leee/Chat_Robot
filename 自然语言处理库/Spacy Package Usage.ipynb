{
 "cells": [
  {
   "cell_type": "markdown",
   "metadata": {},
   "source": [
    "## Spacy Package Usage\n",
    "### 提供了非常快速和准确的句法分析功能(所有已发布的库中速度最快)，还提供了命名实体识别和可以随时访问词向量的功能\n",
    "### 使用Cpython编写，包含各种训练模型，包括语言词汇表、语法、词向量转换和实体识别\n",
    "### 实体识别是对包含预定类别的文本中的多个实体进行分类的过程，例如，类别可以包括人、对象、位置、组织、日期、事件等\n",
    "### 词向量是指将单词或短语从词汇映射到由实数组成的向量"
   ]
  },
  {
   "cell_type": "code",
   "execution_count": 8,
   "metadata": {},
   "outputs": [
    {
     "name": "stdout",
     "output_type": "stream",
     "text": [
      "[(William, 'PERSON', 380), (Anna Pavlovan, 'PERSON', 380), (Russia, 'GPE', 384), (William I, 'PERSON', 380), (1840, 'DATE', 391), (the Prince of Orange, 'LOC', 385), (1849, 'DATE', 391), (Netherlands, 'GPE', 384), (William, 'PERSON', 380), (Sophie, 'PERSON', 380), (Wurttemberg, 'GPE', 384), (1839, 'DATE', 391), (three, 'CARDINAL', 397), (William, 'PERSON', 380), (Maurice, 'PERSON', 380), (Alexander, 'PERSON', 380)]\n"
     ]
    }
   ],
   "source": [
    "import spacy\n",
    "# Run below command, if you are getting error\n",
    "# python -m spacy download en\n",
    "nlp = spacy.load(\"en\")\n",
    "\n",
    "william_wikidef = \"\"\"William was the son of King William IIand Anna Pavlovan of Russia. \n",
    "On the abdication of his grandfather William I in 1840, he became the Prince of Orange.\n",
    "On the death of his father in 1849, he succeeded as king of the Netherlands. \n",
    "William married his cousin Sophie of Wurttemberg in 1839 and they had three sons, William, Maurice,\n",
    "and Alexander, all of whom predeceased him.\"\"\"\n",
    "\n",
    "nlp_william = nlp(william_wikidef)\n",
    "print([(i, i.label_, i.label) for i in nlp_william.ents])"
   ]
  },
  {
   "cell_type": "markdown",
   "metadata": {},
   "source": [
    "### Spacy 还提供依赖性解析功能，可以进一步用于从文本中提取名词短语"
   ]
  },
  {
   "cell_type": "code",
   "execution_count": 11,
   "metadata": {},
   "outputs": [
    {
     "name": "stdout",
     "output_type": "stream",
     "text": [
      "The book\n",
      "The book\n",
      "---\n",
      "nsubj\n",
      "---\n",
      "deals\n",
      "NLP\n",
      "NLP\n",
      "---\n",
      "pobj\n",
      "---\n",
      "with\n"
     ]
    }
   ],
   "source": [
    "# Noun Phrase extraction\n",
    "senten_ = nlp('The book deals with NLP')\n",
    "for noun_ in senten_.noun_chunks:\n",
    "    print(noun_)\n",
    "    print(noun_.text)\n",
    "    print('---')\n",
    "    print(noun_.root.dep_)\n",
    "    print('---')\n",
    "    print(noun_.root.head.text)"
   ]
  }
 ],
 "metadata": {
  "kernelspec": {
   "display_name": "Python 3",
   "language": "python",
   "name": "python3"
  },
  "language_info": {
   "codemirror_mode": {
    "name": "ipython",
    "version": 3
   },
   "file_extension": ".py",
   "mimetype": "text/x-python",
   "name": "python",
   "nbconvert_exporter": "python",
   "pygments_lexer": "ipython3",
   "version": "3.6.4"
  }
 },
 "nbformat": 4,
 "nbformat_minor": 2
}
