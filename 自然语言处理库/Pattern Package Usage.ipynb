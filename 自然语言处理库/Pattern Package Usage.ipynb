{
 "cells": [
  {
   "cell_type": "markdown",
   "metadata": {},
   "source": [
    "## Pattern Package Usage\n",
    "### 适用于各种NLP任务，例如词类标注器、n-gram搜索、情感分析、WordNet和机器学习(例如向量空间建模、k均值聚类、朴素贝叶斯、KNN和SVM分类器)"
   ]
  },
  {
   "cell_type": "code",
   "execution_count": 7,
   "metadata": {},
   "outputs": [
    {
     "name": "stdout",
     "output_type": "stream",
     "text": [
      "[('i', 'JJ'), ('hope', 'NN'), ('it', 'PRP'), ('is', 'VBZ'), ('going', 'VBG'), ('good', 'JJ'), ('for', 'IN'), ('you', 'PRP'), ('!', '.')]\n"
     ]
    }
   ],
   "source": [
    "import pattern \n",
    "from pattern.en import tag\n",
    "tweet_ = \"I hope it is going good for you!\"\n",
    "tweet_l = tweet_.lower()\n",
    "tweet_tags = tag(tweet_l)\n",
    "print(tweet_tags)"
   ]
  }
 ],
 "metadata": {
  "kernelspec": {
   "display_name": "Python 3",
   "language": "python",
   "name": "python3"
  },
  "language_info": {
   "codemirror_mode": {
    "name": "ipython",
    "version": 3
   },
   "file_extension": ".py",
   "mimetype": "text/x-python",
   "name": "python",
   "nbconvert_exporter": "python",
   "pygments_lexer": "ipython3",
   "version": "3.6.4"
  }
 },
 "nbformat": 4,
 "nbformat_minor": 2
}
