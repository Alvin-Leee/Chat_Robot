{
 "cells": [
  {
   "cell_type": "markdown",
   "metadata": {},
   "source": [
    "## TextBlob Package Usage\n",
    "### 提供一个简单的API，可用于词类标注、名词短语提取、情感分析、分类等"
   ]
  },
  {
   "cell_type": "markdown",
   "metadata": {},
   "source": [
    "### 情感是指隐藏在句子中的观点\n",
    "### 极性(polarity)定义句子中的消极性或积极性，而主观性(subjectivity)暗示句子的表达式含糊的，还是肯定的"
   ]
  },
  {
   "cell_type": "code",
   "execution_count": 2,
   "metadata": {},
   "outputs": [
    {
     "data": {
      "text/plain": [
       "Sentiment(polarity=0.1, subjectivity=1.0)"
      ]
     },
     "execution_count": 2,
     "metadata": {},
     "output_type": "execute_result"
    }
   ],
   "source": [
    "from textblob import TextBlob\n",
    "import textblob\n",
    "# Taking a statement as input\n",
    "statement = TextBlob(\"My home is far away from my school.\")\n",
    "# Calculaing the sentiment attached with the statement\n",
    "statement.sentiment"
   ]
  },
  {
   "cell_type": "markdown",
   "metadata": {},
   "source": [
    "### TextBlob用来标注\n",
    "### 标注是将文本(语料库)中的单词标记为与讲话中特定部分相对应的过程"
   ]
  },
  {
   "cell_type": "code",
   "execution_count": 5,
   "metadata": {},
   "outputs": [
    {
     "data": {
      "text/plain": [
       "TextBlob(\"How about you and I go together on a walk far away\n",
       "from this place, discussing the things we have never discussed\n",
       "on Deep Learning and Natural Language Processing.\")"
      ]
     },
     "execution_count": 5,
     "metadata": {},
     "output_type": "execute_result"
    }
   ],
   "source": [
    "# Defing a sample text\n",
    "text = '''How about you and I go together on a walk far away\n",
    "from this place, discussing the things we have never discussed\n",
    "on Deep Learning and Natural Language Processing.'''\n",
    "blob_ = TextBlob(text) # Making it as Textblob object\n",
    "blob_"
   ]
  },
  {
   "cell_type": "code",
   "execution_count": 6,
   "metadata": {},
   "outputs": [
    {
     "data": {
      "text/plain": [
       "[('How', 'WRB'),\n",
       " ('about', 'IN'),\n",
       " ('you', 'PRP'),\n",
       " ('and', 'CC'),\n",
       " ('I', 'PRP'),\n",
       " ('go', 'VBP'),\n",
       " ('together', 'RB'),\n",
       " ('on', 'IN'),\n",
       " ('a', 'DT'),\n",
       " ('walk', 'NN'),\n",
       " ('far', 'RB'),\n",
       " ('away', 'RB'),\n",
       " ('from', 'IN'),\n",
       " ('this', 'DT'),\n",
       " ('place', 'NN'),\n",
       " ('discussing', 'VBG'),\n",
       " ('the', 'DT'),\n",
       " ('things', 'NNS'),\n",
       " ('we', 'PRP'),\n",
       " ('have', 'VBP'),\n",
       " ('never', 'RB'),\n",
       " ('discussed', 'VBN'),\n",
       " ('on', 'IN'),\n",
       " ('Deep', 'NNP'),\n",
       " ('Learning', 'NNP'),\n",
       " ('and', 'CC'),\n",
       " ('Natural', 'NNP'),\n",
       " ('Language', 'NNP'),\n",
       " ('Processing', 'NNP')]"
      ]
     },
     "execution_count": 6,
     "metadata": {},
     "output_type": "execute_result"
    }
   ],
   "source": [
    "# This part internally makes use of the 'punkt' resource from the NLTK package, make sure to download it before running this\n",
    "import nltk\n",
    "# nltk.download('punkt)\n",
    "# nltk.download('averaged_perceptron_tagger')\n",
    "# Runing this separately: python3.6 -m textblob.download_corpora\n",
    "blob_.tags"
   ]
  },
  {
   "cell_type": "markdown",
   "metadata": {},
   "source": [
    "### 可以用TextBlob更正拼写错误"
   ]
  },
  {
   "cell_type": "code",
   "execution_count": 20,
   "metadata": {},
   "outputs": [
    {
     "name": "stdout",
     "output_type": "stream",
     "text": [
      "I think the model needs to be trained more!\n"
     ]
    }
   ],
   "source": [
    "sample_ = TextBlob(\"I thinkk the model needs to be trained more!\")\n",
    "print(sample_.correct())"
   ]
  },
  {
   "cell_type": "markdown",
   "metadata": {},
   "source": [
    "### 可以用TextBlob进行翻译"
   ]
  },
  {
   "cell_type": "code",
   "execution_count": 15,
   "metadata": {},
   "outputs": [],
   "source": [
    "# Language Translation\n",
    "lang_ = TextBlob(u\"Voulez-vous apprendre le français?\")\n",
    "lang_.translate(from_lang='fr', to='en')"
   ]
  }
 ],
 "metadata": {
  "kernelspec": {
   "display_name": "Python 3",
   "language": "python",
   "name": "python3"
  },
  "language_info": {
   "codemirror_mode": {
    "name": "ipython",
    "version": 3
   },
   "file_extension": ".py",
   "mimetype": "text/x-python",
   "name": "python",
   "nbconvert_exporter": "python",
   "pygments_lexer": "ipython3",
   "version": "3.6.4"
  }
 },
 "nbformat": 4,
 "nbformat_minor": 2
}
